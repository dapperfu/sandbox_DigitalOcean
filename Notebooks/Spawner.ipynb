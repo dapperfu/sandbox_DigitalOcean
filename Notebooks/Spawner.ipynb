{
 "cells": [
  {
   "cell_type": "code",
   "execution_count": 28,
   "metadata": {},
   "outputs": [],
   "source": [
    "import os\n",
    "\"\"\"import random\n",
    "import socket\n",
    "import subprocess\n",
    "import time\n",
    "\"\"\"\n",
    "import time\n",
    "import uuid\n",
    "import digitalocean\n"
   ]
  },
  {
   "cell_type": "code",
   "execution_count": 29,
   "metadata": {},
   "outputs": [],
   "source": [
    "# .bashrc:export DO_KEY=...\n",
    "do_key = os.environ[\"DO_KEY\"]\n"
   ]
  },
  {
   "cell_type": "code",
   "execution_count": 30,
   "metadata": {},
   "outputs": [],
   "source": [
    "image_slug = \"ubuntu-16-04-x64\"\n"
   ]
  },
  {
   "cell_type": "code",
   "execution_count": 31,
   "metadata": {},
   "outputs": [],
   "source": [
    "manager = digitalocean.Manager(token=do_key)\n",
    "keys = manager.get_all_sshkeys()\n"
   ]
  },
  {
   "cell_type": "code",
   "execution_count": 32,
   "metadata": {
    "scrolled": true
   },
   "outputs": [],
   "source": [
    "images = manager.get_all_images()\n"
   ]
  },
  {
   "cell_type": "code",
   "execution_count": 33,
   "metadata": {},
   "outputs": [
    {
     "data": {
      "text/plain": [
       "[<Image: 35476884 CoreOS 1800.2.0 (beta)>,\n",
       " <Image: 34160289 Ubuntu 14-04-05-4-9-kernel>,\n",
       " <Image: 13764801 Ubuntu Elixir on 14.04>,\n",
       " <Image: 14782899 CentOS 6.7 x32>,\n",
       " <Image: 14782952 CentOS 6.7 x64>,\n",
       " <Image: 16071652 Ubuntu cloudbench-ycsb-on-1404.030216-1>,\n",
       " <Image: 16071743 Ubuntu cloudbench-hibench-on-1404.030216-1>,\n",
       " <Image: 16082940 Ubuntu cloudbench-nullworkload-on-1404.030316-6>,\n",
       " <Image: 16376426 Ubuntu Cassandra on 14.04>,\n",
       " <Image: 16623283 Debian 7.10 x32>,\n",
       " <Image: 16623308 Debian 7.10 x64>,\n",
       " <Image: 17550956 Ubuntu hadoop1>,\n",
       " <Image: 17551182 Ubuntu cassandra1>,\n",
       " <Image: 18290419 Debian 7.11 x32>,\n",
       " <Image: 18325354 CentOS 7.2 x64>,\n",
       " <Image: 21419098 CentOS [EOL] 7.2.1511 x64>,\n",
       " <Image: 21669205 Ubuntu 16.04.1 x64>,\n",
       " <Image: 22580948 CoreOS 1235.9.0 (stable)>,\n",
       " <Image: 23219707 Ubuntu Docker 17.03.0-ce on 14.04>,\n",
       " <Image: 23220211 Fedora 25 x64 Atomic>,\n",
       " <Image: 24081356 FreeBSD 10.3 x64 zfs>,\n",
       " <Image: 24081552 FreeBSD 10.3 x64>,\n",
       " <Image: 24257846 Ubuntu 12.04.5 x32>,\n",
       " <Image: 24258016 Ubuntu 12.04.5 x64>,\n",
       " <Image: 24914827 Fedora 26 x64 [BETA/UNSUPPORTED]>,\n",
       " <Image: 25256991 Ubuntu 14.04.5 x32>,\n",
       " <Image: 25430232 Ubuntu cloudbench-nullworkload-on-1604.060117-1>,\n",
       " <Image: 25430312 Ubuntu cloudbench-hibench-hadoop-on-1604.060117-1>,\n",
       " <Image: 25568418 Ubuntu cloudbench-ycsb-cassandra-on-1604.060117-1>,\n",
       " <Image: 25570414 Fedora 26 x64 [BETA]>,\n",
       " <Image: 26398282 Ubuntu MachineLearning on 16.04-20170718>,\n",
       " <Image: 26671396 FreeBSD 11.1 x64>,\n",
       " <Image: 26671397 FreeBSD 11.1 x64 ZFS>,\n",
       " <Image: 27150538 Ubuntu - DO-Recovery 17.04.20170818>,\n",
       " <Image: 28282122 FreeBSD 10.4 x64 ZFS>,\n",
       " <Image: 28282143 FreeBSD 10.4 x64>,\n",
       " <Image: 28706758 Ubuntu MachineLearning on 16.04-20171020>,\n",
       " <Image: 29492039 Fedora 27 x64>,\n",
       " <Image: 29493174 Fedora Atomic 27 x64 Atomic>,\n",
       " <Image: 30852674 Ubuntu - Linux Kernel Recovery 17.10.20180112>,\n",
       " <Image: 30996078 Ubuntu 14.04.5 LTS HWE for DO>,\n",
       " <Image: 31354013 CentOS 6.9 x32>,\n",
       " <Image: 31650475 Ubuntu 14.04.5 LTS x64 HWE>,\n",
       " <Image: 31734516 Debian 8.10 x64>,\n",
       " <Image: 31737616 Debian 8.10 x32>,\n",
       " <Image: 33529353 Fedora 28 x64 Beta 1.3>,\n",
       " <Image: 33948356 Fedora 28 x64>,\n",
       " <Image: 34114584 Fedora Atomic 28 x64 Atomic>,\n",
       " <Image: 34141336 Ubuntu - DigitalOcean Recovery 18.04.20180508>,\n",
       " <Image: 34264495 Ubuntu 17.10 x64>,\n",
       " <Image: 34320678 Debian 9.4 x64>,\n",
       " <Image: 34468562 Ubuntu cloudbench-nullworkload-on-1604.051818-1>,\n",
       " <Image: 34468665 Ubuntu cloudbench-ycsb-cassandra-on-1604.051818-1>,\n",
       " <Image: 34471494 Ubuntu cloudbench-hibench-hadoop-on-1604.061818-1>,\n",
       " <Image: 34487567 CentOS 7.5 x64>,\n",
       " <Image: 34594793 Ubuntu 16.04.4 x32>,\n",
       " <Image: 34628116 Ubuntu 14.04.5 x64>,\n",
       " <Image: 34629350 Ubuntu 14.04.5 x32>,\n",
       " <Image: 34629387 Ubuntu 18.04 x64>,\n",
       " <Image: 34899846 Ubuntu ubuntu-14.04.5-kernel-4.9.77-1.4-691dc34>,\n",
       " <Image: 34902021 CentOS 6.9 x64>,\n",
       " <Image: 35103451 Ubuntu 16.04.4 x64>,\n",
       " <Image: 35226610 Ubuntu DigitalOcean Recovery .20180612>,\n",
       " <Image: 35256005 RancherOS v1.4.0>,\n",
       " <Image: 35258876 Ubuntu DigitalOcean Recovery>,\n",
       " <Image: 35286009 Ubuntu - DigitalOcean Recovery 18.04.20180614>,\n",
       " <Image: 35286165 Ubuntu - DigitalOcean Recovery 18.04.20180614>,\n",
       " <Image: 35286347 Ubuntu - DigitalOcean Recovery 18.04.20180614>,\n",
       " <Image: 35296534 CoreOS 1745.7.0 (stable)>,\n",
       " <Image: 35478815 CoreOS 1814.0.0 (alpha)>,\n",
       " <Image: 35844000 FreeBSD 11.2 x64 zfs>,\n",
       " <Image: 35844052 FreeBSD 11.2 x64 ufs>,\n",
       " <Image: 24232319 Ubuntu Ruby-on-Rails on 16.04>,\n",
       " <Image: 27419663 Ubuntu Machine Learning and AI>,\n",
       " <Image: 30943092 Ubuntu WordPress 4.9.1 on 16.04>,\n",
       " <Image: 30943573 Ubuntu NodeJS 6.12.3 on 16.04>,\n",
       " <Image: 30943580 Ubuntu PhpMyAdmin on 16.04>,\n",
       " <Image: 30943581 Ubuntu LAMP on 16.04>,\n",
       " <Image: 30944510 Ubuntu MySQL on 16.04>,\n",
       " <Image: 30944767 Ubuntu LEMP on 16.04>,\n",
       " <Image: 30944913 Ubuntu MongoDB 3.4.10 on 16.04>,\n",
       " <Image: 30970148 Ubuntu Docker 17.12.0~ce on 16.04>,\n",
       " <Image: 31188768 Ubuntu Django 1.8.7 on 16.04>,\n",
       " <Image: 31188781 Ubuntu Dokku 0.11.3 on 16.04>,\n",
       " <Image: 31750575 Ubuntu Ghost 1.21.1 on 16.04>,\n",
       " <Image: 33038884 Ubuntu MEAN on 16.04>,\n",
       " <Image: 35623939 Ubuntu GitLab 11.0.0-ce.0 on 16.04>,\n",
       " <Image: 35844462 Ubuntu Discourse 2.0.20180613 on 16.04>]"
      ]
     },
     "execution_count": 33,
     "metadata": {},
     "output_type": "execute_result"
    }
   ],
   "source": [
    "images"
   ]
  },
  {
   "cell_type": "code",
   "execution_count": 34,
   "metadata": {},
   "outputs": [],
   "source": [
    "for image in images:\n",
    "    if image.slug == image_slug:\n",
    "        break\n"
   ]
  },
  {
   "cell_type": "code",
   "execution_count": 35,
   "metadata": {},
   "outputs": [
    {
     "data": {
      "text/plain": [
       "['nyc1',\n",
       " 'sfo1',\n",
       " 'nyc2',\n",
       " 'ams2',\n",
       " 'sgp1',\n",
       " 'lon1',\n",
       " 'nyc3',\n",
       " 'ams3',\n",
       " 'fra1',\n",
       " 'tor1',\n",
       " 'sfo2',\n",
       " 'blr1']"
      ]
     },
     "execution_count": 35,
     "metadata": {},
     "output_type": "execute_result"
    }
   ],
   "source": [
    "regions = image.regions\n",
    "regions\n"
   ]
  },
  {
   "cell_type": "code",
   "execution_count": 36,
   "metadata": {},
   "outputs": [],
   "source": [
    "droplets = list()"
   ]
  },
  {
   "cell_type": "code",
   "execution_count": 37,
   "metadata": {},
   "outputs": [
    {
     "name": "stdout",
     "output_type": "stream",
     "text": [
      "sfo1\n",
      "nyc2\n",
      "ams2\n"
     ]
    },
    {
     "data": {
      "text/plain": [
       "10"
      ]
     },
     "execution_count": 37,
     "metadata": {},
     "output_type": "execute_result"
    }
   ],
   "source": [
    "for region in regions:\n",
    "    droplet = digitalocean.Droplet(\n",
    "        token=do_key,\n",
    "        name=uuid.uuid4().hex,\n",
    "        image=image_slug,\n",
    "        region=region,\n",
    "        ssh_keys=keys,\n",
    "        backups=False,\n",
    "        ipv6=False,\n",
    "        private_networking=True,\n",
    "        size=\"s-1vcpu-1gb\",\n",
    "    )\n",
    "\n",
    "    try:\n",
    "        droplet.create()\n",
    "        droplets.append(droplet)\n",
    "    except:\n",
    "        print(region)\n",
    "    time.sleep(2)\n",
    "len(manager.get_all_droplets())\n"
   ]
  },
  {
   "cell_type": "code",
   "execution_count": 38,
   "metadata": {},
   "outputs": [
    {
     "data": {
      "text/plain": [
       "[<Droplet: 100974344 a87fc64448a0429ba78d39ad40f4013a>,\n",
       " <Droplet: 100974358 b488a5df23d34de0b25513e74b534d5a>,\n",
       " <Droplet: 100974371 ff44db3355f644f39ffa38e63bd07d0c>,\n",
       " <Droplet: 100974379 50f011e092484e929a0dd85833c12e5d>,\n",
       " <Droplet: 100974384 b44f46611ee8432aaa88eef7dd3f02ad>,\n",
       " <Droplet: 100974390 d324b15cfc1f42d085f222fbb2f56082>,\n",
       " <Droplet: 100974395 368ca5862dd947f1a3bf821b0f7bd13d>,\n",
       " <Droplet: 100974403 fdaa56c4e325463880680c1ffc5f5b11>,\n",
       " <Droplet: 100974410 b4ad6c223be54854a41d23602f91dd93>,\n",
       " <Droplet: 100974418 89a0767ce52048acbd12ee3881c305e1>]"
      ]
     },
     "execution_count": 38,
     "metadata": {},
     "output_type": "execute_result"
    }
   ],
   "source": [
    "droplets = manager.get_all_droplets()\n",
    "\n",
    "[droplet.load() for droplet in droplets]\n"
   ]
  },
  {
   "cell_type": "code",
   "execution_count": 46,
   "metadata": {},
   "outputs": [
    {
     "data": {
      "text/plain": [
       "[<Droplet: 100974344 a87fc64448a0429ba78d39ad40f4013a>,\n",
       " <Droplet: 100974358 b488a5df23d34de0b25513e74b534d5a>,\n",
       " <Droplet: 100974371 ff44db3355f644f39ffa38e63bd07d0c>,\n",
       " <Droplet: 100974379 50f011e092484e929a0dd85833c12e5d>,\n",
       " <Droplet: 100974384 b44f46611ee8432aaa88eef7dd3f02ad>,\n",
       " <Droplet: 100974390 d324b15cfc1f42d085f222fbb2f56082>,\n",
       " <Droplet: 100974395 368ca5862dd947f1a3bf821b0f7bd13d>,\n",
       " <Droplet: 100974403 fdaa56c4e325463880680c1ffc5f5b11>,\n",
       " <Droplet: 100974410 b4ad6c223be54854a41d23602f91dd93>,\n",
       " <Droplet: 100974418 89a0767ce52048acbd12ee3881c305e1>]"
      ]
     },
     "execution_count": 46,
     "metadata": {},
     "output_type": "execute_result"
    }
   ],
   "source": [
    "droplets"
   ]
  },
  {
   "cell_type": "code",
   "execution_count": 51,
   "metadata": {
    "scrolled": true
   },
   "outputs": [
    {
     "data": {
      "text/plain": [
       "'206.189.238.156'"
      ]
     },
     "execution_count": 51,
     "metadata": {},
     "output_type": "execute_result"
    }
   ],
   "source": [
    "droplet.ip_address"
   ]
  },
  {
   "cell_type": "code",
   "execution_count": 52,
   "metadata": {},
   "outputs": [
    {
     "data": {
      "text/plain": [
       "'active'"
      ]
     },
     "execution_count": 52,
     "metadata": {},
     "output_type": "execute_result"
    }
   ],
   "source": [
    "droplet.status"
   ]
  },
  {
   "cell_type": "code",
   "execution_count": 54,
   "metadata": {},
   "outputs": [
    {
     "data": {
      "text/plain": [
       "[<Droplet: 100974344 a87fc64448a0429ba78d39ad40f4013a>,\n",
       " <Droplet: 100974358 b488a5df23d34de0b25513e74b534d5a>,\n",
       " <Droplet: 100974371 ff44db3355f644f39ffa38e63bd07d0c>,\n",
       " <Droplet: 100974379 50f011e092484e929a0dd85833c12e5d>,\n",
       " <Droplet: 100974384 b44f46611ee8432aaa88eef7dd3f02ad>,\n",
       " <Droplet: 100974390 d324b15cfc1f42d085f222fbb2f56082>,\n",
       " <Droplet: 100974395 368ca5862dd947f1a3bf821b0f7bd13d>,\n",
       " <Droplet: 100974403 fdaa56c4e325463880680c1ffc5f5b11>,\n",
       " <Droplet: 100974410 b4ad6c223be54854a41d23602f91dd93>,\n",
       " <Droplet: 100974418 89a0767ce52048acbd12ee3881c305e1>]"
      ]
     },
     "execution_count": 54,
     "metadata": {},
     "output_type": "execute_result"
    }
   ],
   "source": [
    "droplets = manager.get_all_droplets()\n",
    "\n",
    "[droplet.load() for droplet in droplets]"
   ]
  },
  {
   "cell_type": "code",
   "execution_count": 58,
   "metadata": {},
   "outputs": [],
   "source": [
    "ssh_template = \"ssh -o UserKnownHostsFile=/dev/null -o StrictHostKeyChecking=no -D{port} root@{ip}\"\n",
    "screen_template = \"screen -S test{port} -d -m {ssh_cmd}\""
   ]
  },
  {
   "cell_type": "code",
   "execution_count": 59,
   "metadata": {},
   "outputs": [],
   "source": [
    "with open(\"spawn_proxy.sh\", \"w\") as fid:\n",
    "    print(\"#!/usr/bin/env bash\", file=fid)\n",
    "\n",
    "    for idx, droplet in enumerate(droplets):\n",
    "        port = 1080 + idx\n",
    "        ssh_cmd = ssh_template.format(port=1080 + idx, ip=droplet.ip_address)\n",
    "        screen_cmd = screen_template.format(port=port, ssh_cmd=ssh_cmd)\n",
    "        print(screen_cmd, file=fid)"
   ]
  },
  {
   "cell_type": "code",
   "execution_count": null,
   "metadata": {},
   "outputs": [],
   "source": [
    "[droplet.destroy() for droplet in manager.get_all_droplets()]"
   ]
  }
 ],
 "metadata": {
  "kernelspec": {
   "display_name": "Python 3",
   "language": "python",
   "name": "python3"
  },
  "language_info": {
   "codemirror_mode": {
    "name": "ipython",
    "version": 3
   },
   "file_extension": ".py",
   "mimetype": "text/x-python",
   "name": "python",
   "nbconvert_exporter": "python",
   "pygments_lexer": "ipython3",
   "version": "3.6.5"
  }
 },
 "nbformat": 4,
 "nbformat_minor": 2
}
